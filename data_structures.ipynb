{
 "cells": [
  {
   "cell_type": "markdown",
   "metadata": {},
   "source": [
    "# Q1) What are data structures, and why are they important?\n",
    "#  Ans: Data Structures are the predefined structures impotant because they serves the following:\n",
    "#       1) they store the data\n",
    "#       2) they used to retrieve the data\n",
    "#       3) they are used to manipulate the data\n",
    "        "
   ]
  },
  {
   "cell_type": "code",
   "execution_count": null,
   "metadata": {},
   "outputs": [
    {
     "name": "stdout",
     "output_type": "stream",
     "text": [
      "[1, 2, 3, 'varun', 'ankit']\n"
     ]
    },
    {
     "ename": "TypeError",
     "evalue": "'tuple' object does not support item assignment",
     "output_type": "error",
     "traceback": [
      "\u001b[1;31m---------------------------------------------------------------------------\u001b[0m",
      "\u001b[1;31mTypeError\u001b[0m                                 Traceback (most recent call last)",
      "Cell \u001b[1;32mIn[1], line 10\u001b[0m\n\u001b[0;32m      7\u001b[0m \u001b[38;5;28mprint\u001b[39m(lis)\n\u001b[0;32m      9\u001b[0m tup\u001b[38;5;241m=\u001b[39m(\u001b[38;5;241m1\u001b[39m,\u001b[38;5;241m2\u001b[39m,\u001b[38;5;241m3\u001b[39m,\u001b[38;5;241m4\u001b[39m,\u001b[38;5;124m\"\u001b[39m\u001b[38;5;124mankit\u001b[39m\u001b[38;5;124m\"\u001b[39m)\n\u001b[1;32m---> 10\u001b[0m \u001b[43mtup\u001b[49m\u001b[43m[\u001b[49m\u001b[38;5;241;43m3\u001b[39;49m\u001b[43m]\u001b[49m\u001b[38;5;241m=\u001b[39m\u001b[38;5;124m\"\u001b[39m\u001b[38;5;124mvarun\u001b[39m\u001b[38;5;124m\"\u001b[39m\n\u001b[0;32m     11\u001b[0m \u001b[38;5;28mprint\u001b[39m(tup)\n",
      "\u001b[1;31mTypeError\u001b[0m: 'tuple' object does not support item assignment"
     ]
    }
   ],
   "source": [
    "#1) Explain the difference between mutable and immutable data types with examples?\n",
    "# Ans : list are mutable data type but tuples are immutable data types\n",
    "# ex 1\n",
    "\n",
    "lis=[1,2,3,4,\"ankit\"]\n",
    "lis[3]=\"varun\"\n",
    "print(lis)\n",
    "\n",
    "tup=(1,2,3,4,\"ankit\")\n",
    "tup[3]=\"varun\"\n",
    "print(tup)  # you can see tuple cannot suport item assignment\n"
   ]
  },
  {
   "cell_type": "code",
   "execution_count": null,
   "metadata": {},
   "outputs": [],
   "source": [
    "# What are the main differences between lists and tuples in Python?\n",
    "\n",
    "#Ans-- 1) lists are the mutable type of data structures\n",
    "  #     2) tuple are immutable type of data structures\n"
   ]
  },
  {
   "cell_type": "code",
   "execution_count": 2,
   "metadata": {},
   "outputs": [
    {
     "name": "stdout",
     "output_type": "stream",
     "text": [
      "123\n"
     ]
    }
   ],
   "source": [
    "# 4) Describe how dictionaries store data?\n",
    "\n",
    "#Ans--  They store data with key and value pairs\n",
    "dic={\"ankit\":123,\"varun\":345,\"kumar\":234}\n",
    "print(dic[\"ankit\"])"
   ]
  },
  {
   "cell_type": "code",
   "execution_count": null,
   "metadata": {},
   "outputs": [],
   "source": [
    "#  5) Why might you use a set instead of a list in Python?\n",
    "\n",
    "#Ans-- 1) we use set because if we want to remove duplicates element\n",
    "#      2) we use intersection,union,difference,symmetric"
   ]
  },
  {
   "cell_type": "code",
   "execution_count": 6,
   "metadata": {},
   "outputs": [
    {
     "name": "stdout",
     "output_type": "stream",
     "text": [
      "['varun', 'kumar']\n"
     ]
    },
    {
     "ename": "TypeError",
     "evalue": "'str' object does not support item assignment",
     "output_type": "error",
     "traceback": [
      "\u001b[1;31m---------------------------------------------------------------------------\u001b[0m",
      "\u001b[1;31mTypeError\u001b[0m                                 Traceback (most recent call last)",
      "Cell \u001b[1;32mIn[6], line 10\u001b[0m\n\u001b[0;32m      7\u001b[0m \u001b[38;5;28mprint\u001b[39m(\u001b[38;5;28mlist\u001b[39m)\n\u001b[0;32m      9\u001b[0m \u001b[38;5;28mstr\u001b[39m\u001b[38;5;241m=\u001b[39m\u001b[38;5;124m\"\u001b[39m\u001b[38;5;124mAnkit\u001b[39m\u001b[38;5;124m\"\u001b[39m\n\u001b[1;32m---> 10\u001b[0m \u001b[38;5;28;43mstr\u001b[39;49m\u001b[43m[\u001b[49m\u001b[38;5;241;43m0\u001b[39;49m\u001b[43m]\u001b[49m\u001b[38;5;241m=\u001b[39m\u001b[38;5;124m\"\u001b[39m\u001b[38;5;124mo\u001b[39m\u001b[38;5;124m\"\u001b[39m\n\u001b[0;32m     11\u001b[0m \u001b[38;5;28mprint\u001b[39m(\u001b[38;5;28mstr\u001b[39m)\n",
      "\u001b[1;31mTypeError\u001b[0m: 'str' object does not support item assignment"
     ]
    }
   ],
   "source": [
    "#  6) What is a string in Python, and how is it different from a list?\n",
    "\n",
    "#Ans-- 1) string is immutable , list are mutable\n",
    "\n",
    "list=[\"Ankit\",\"kumar\"]\n",
    "list[0]=\"varun\"\n",
    "print(list)\n",
    "\n",
    "str=\"Ankit\"\n",
    "str[0]=\"o\"\n",
    "print(str)\n"
   ]
  },
  {
   "cell_type": "code",
   "execution_count": null,
   "metadata": {},
   "outputs": [],
   "source": [
    "#  7) How do tuples ensure data integrity in Python?\n",
    "# ANS -- here tuples are used to make our data secure\n",
    "# we cant chnage it "
   ]
  },
  {
   "cell_type": "code",
   "execution_count": null,
   "metadata": {},
   "outputs": [],
   "source": [
    "#  8) What is a hash table, and how does it relate to dictionaries in Python?\n",
    "# ANS -- A dictionary is a data structure that maps keys to values.\n",
    "\n",
    "# A hash table is a data structure that maps keys to values by taking the hash value of the key (by applying some hash function to it) and mapping that to a bucket where one or more values are stored."
   ]
  },
  {
   "cell_type": "code",
   "execution_count": 7,
   "metadata": {},
   "outputs": [
    {
     "name": "stdout",
     "output_type": "stream",
     "text": [
      "[1, 'varun', 3, 'ankit']\n"
     ]
    }
   ],
   "source": [
    "#  9) Can lists contain different data types in Python?\n",
    "# ANS -- A list can contain every data types yes its true.\n",
    "lis=[1,2,3,\"ankit\"]\n",
    "\n",
    "lis[1]=\"varun\"\n",
    "\n",
    "print(lis)\n"
   ]
  },
  {
   "cell_type": "code",
   "execution_count": 8,
   "metadata": {},
   "outputs": [
    {
     "ename": "TypeError",
     "evalue": "'str' object does not support item assignment",
     "output_type": "error",
     "traceback": [
      "\u001b[1;31m---------------------------------------------------------------------------\u001b[0m",
      "\u001b[1;31mTypeError\u001b[0m                                 Traceback (most recent call last)",
      "Cell \u001b[1;32mIn[8], line 5\u001b[0m\n\u001b[0;32m      1\u001b[0m \u001b[38;5;66;03m#  10) Explain why strings are immutable in Python?\u001b[39;00m\n\u001b[0;32m      2\u001b[0m \n\u001b[0;32m      3\u001b[0m \u001b[38;5;66;03m# Ans:-- Yes strings are immutable and it is important to store names original\u001b[39;00m\n\u001b[0;32m      4\u001b[0m s\u001b[38;5;241m=\u001b[39m\u001b[38;5;124m\"\u001b[39m\u001b[38;5;124mankit\u001b[39m\u001b[38;5;124m\"\u001b[39m\n\u001b[1;32m----> 5\u001b[0m \u001b[43ms\u001b[49m\u001b[43m[\u001b[49m\u001b[38;5;241;43m0\u001b[39;49m\u001b[43m]\u001b[49m\u001b[38;5;241m=\u001b[39m\u001b[38;5;124m\"\u001b[39m\u001b[38;5;124ml\u001b[39m\u001b[38;5;124m\"\u001b[39m\n\u001b[0;32m      6\u001b[0m \u001b[38;5;28mprint\u001b[39m(s)\n",
      "\u001b[1;31mTypeError\u001b[0m: 'str' object does not support item assignment"
     ]
    }
   ],
   "source": [
    "#  10) Explain why strings are immutable in Python?\n",
    "\n",
    "# Ans:-- Yes strings are immutable and it is important to store names original\n",
    "s=\"ankit\"\n",
    "s[0]=\"l\"\n",
    "print(s)"
   ]
  },
  {
   "cell_type": "code",
   "execution_count": null,
   "metadata": {},
   "outputs": [],
   "source": [
    "# 11) What advantages do dictionaries offer over lists for certain tasks?\n",
    "\n",
    "# Ans --- dictionaries are very useful over list because list doesnt have key value pairs .\n",
    "# list are ordered from 0 to n\n",
    "# but dictionary have more information than list\n"
   ]
  },
  {
   "cell_type": "code",
   "execution_count": null,
   "metadata": {},
   "outputs": [],
   "source": [
    "# 12) Describe a scenario where using a tuple would be preferable over a list?\n",
    "\n",
    "# Ans --- a situation where our salaries are being stored so that we cant change \n",
    "# so we use tuple "
   ]
  },
  {
   "cell_type": "code",
   "execution_count": 11,
   "metadata": {},
   "outputs": [
    {
     "name": "stdout",
     "output_type": "stream",
     "text": [
      "{1, 2, 3, 4}\n"
     ]
    }
   ],
   "source": [
    "# 13) How do sets handle duplicate values in Python?\n",
    "\n",
    "# Ans --- Sets remove duplicates when we enter duplicates value\n",
    "s=set([1,1,2,3,3,4])\n",
    "print(s)"
   ]
  },
  {
   "cell_type": "code",
   "execution_count": 14,
   "metadata": {},
   "outputs": [
    {
     "name": "stdout",
     "output_type": "stream",
     "text": [
      "True\n",
      "False\n",
      "True\n"
     ]
    }
   ],
   "source": [
    "# 14) How does the “in” keyword work differently for lists and dictionaries?\n",
    "\n",
    "\n",
    "#1st Scenario\n",
    " # in list (in) work like it searches for the element in the list\n",
    "# example\n",
    "lis=[1,2,3,4,4,\"ankit\"]\n",
    "print(\"ankit\" in lis)\n",
    "\n",
    "\n",
    "# 2nd Scenario\n",
    "# in dictionary (in) keyword seacrhes for key only not for value\n",
    "\n",
    "dic={\"ankit\":34,\"varun\":456,\"system\":23}\n",
    "print(456 in dic)  # but 456 is available in dic it is a value so it doesnt searches\n",
    "print(\"ankit\" in dic)  # ankit is available"
   ]
  },
  {
   "cell_type": "code",
   "execution_count": null,
   "metadata": {},
   "outputs": [],
   "source": [
    "# 15)  Can you modify the elements of a tuple? Explain why or why not?\n",
    "# Ans --- We cant modify tuple because it was craeted to be safe\n",
    "# Ans --- Any important information could be saved and it cant get change"
   ]
  },
  {
   "cell_type": "code",
   "execution_count": 16,
   "metadata": {},
   "outputs": [
    {
     "data": {
      "text/plain": [
       "123"
      ]
     },
     "execution_count": 16,
     "metadata": {},
     "output_type": "execute_result"
    }
   ],
   "source": [
    "# 16) What is a nested dictionary, and give an example of its use case?\n",
    "# Ans --- Dictionary in a Dictionary is called nested Dictionary\n",
    "dic={(1,2):234,(3,4,5):45,1:{\"ankit\":123,\"kumar\":45}}\n",
    "dic[1][\"ankit\"]"
   ]
  },
  {
   "cell_type": "code",
   "execution_count": null,
   "metadata": {},
   "outputs": [],
   "source": [
    "# 17) Describe the time complexity of accessing elements in a dictionary?\n",
    "# Ans --- Time Complexity is O(1)"
   ]
  },
  {
   "cell_type": "code",
   "execution_count": null,
   "metadata": {},
   "outputs": [],
   "source": [
    "# 18) In what situations are lists preferred over dictionaries?\n",
    "# Ans--> the situations where we have to store only one type of data\n"
   ]
  },
  {
   "cell_type": "code",
   "execution_count": null,
   "metadata": {},
   "outputs": [],
   "source": [
    "# 19) Why are dictionaries considered unordered, and how does that affect data retrieval?\n",
    "# Ans : Dictionaries are considered as unordered because we cant access it with \n",
    "# with index number\n",
    "# they are being accessed with the keys provided"
   ]
  },
  {
   "cell_type": "code",
   "execution_count": 17,
   "metadata": {},
   "outputs": [
    {
     "name": "stdout",
     "output_type": "stream",
     "text": [
      "1\n",
      "5677\n"
     ]
    }
   ],
   "source": [
    "# 20) Explain the difference between a list and a dictionary in terms of data retrieval.\n",
    "list=[1,2,4,5,6,7]\n",
    "print(list[0]) # here we can access it by the index only\n",
    "dic={\"ankit\":123,\"varun\":5677}\n",
    "print(dic[\"varun\"]) # here we can access it by key value"
   ]
  },
  {
   "cell_type": "markdown",
   "metadata": {},
   "source": [
    "Practical Questions"
   ]
  },
  {
   "cell_type": "code",
   "execution_count": 18,
   "metadata": {},
   "outputs": [
    {
     "name": "stdout",
     "output_type": "stream",
     "text": [
      "ankit\n"
     ]
    }
   ],
   "source": [
    "# 1) Write a code to create a string with your name and print it?\n",
    "str=\"ankit\"\n",
    "print(str)"
   ]
  },
  {
   "cell_type": "code",
   "execution_count": 20,
   "metadata": {},
   "outputs": [
    {
     "name": "stdout",
     "output_type": "stream",
     "text": [
      "11\n"
     ]
    }
   ],
   "source": [
    "# 2)  Write a code to find the length of the string \"Hello World\"?\n",
    "print(len(\"hello World\"))"
   ]
  },
  {
   "cell_type": "code",
   "execution_count": 21,
   "metadata": {},
   "outputs": [
    {
     "name": "stdout",
     "output_type": "stream",
     "text": [
      "Pyth\n"
     ]
    }
   ],
   "source": [
    "# 3) Write a code to slice the first 3 characters from the string \"Python Programming\"\n",
    "str=\"Python Programming\"\n",
    "print(str[0:4])"
   ]
  },
  {
   "cell_type": "code",
   "execution_count": 22,
   "metadata": {},
   "outputs": [
    {
     "name": "stdout",
     "output_type": "stream",
     "text": [
      "HELLO\n"
     ]
    }
   ],
   "source": [
    "# 4) write a code to convert the string \"hello\" to upperCAse\n",
    "str=\"hello\"\n",
    "print(str.upper())"
   ]
  },
  {
   "cell_type": "code",
   "execution_count": 24,
   "metadata": {},
   "outputs": [
    {
     "name": "stdout",
     "output_type": "stream",
     "text": [
      "I like orange\n"
     ]
    }
   ],
   "source": [
    "# 5) Write a code to replace the word \"apple\" with \"orange\" in the string \"I like apple\"?\n",
    "str=\"I like apple\"\n",
    "rt=str.replace(\"apple\",\"orange\")\n",
    "print(rt)"
   ]
  },
  {
   "cell_type": "code",
   "execution_count": 25,
   "metadata": {},
   "outputs": [
    {
     "name": "stdout",
     "output_type": "stream",
     "text": [
      "[1, 2, 3, 4, 5]\n"
     ]
    }
   ],
   "source": [
    "#  6) Write a code to create a list with numbers 1 to 5 and print it?\n",
    "lis=[1,2,3,4,5]\n",
    "print(lis)"
   ]
  },
  {
   "cell_type": "code",
   "execution_count": 26,
   "metadata": {},
   "outputs": [
    {
     "name": "stdout",
     "output_type": "stream",
     "text": [
      "[1, 2, 3, 4, 10]\n"
     ]
    }
   ],
   "source": [
    "# 7) Write a code to append the number 10 to the list [1, 2, 3, 4]?\n",
    "lis=[1,2,3,4]\n",
    "lis.append(10)\n",
    "print(lis)"
   ]
  },
  {
   "cell_type": "code",
   "execution_count": 27,
   "metadata": {},
   "outputs": [
    {
     "name": "stdout",
     "output_type": "stream",
     "text": [
      "[1, 2, 4, 5]\n"
     ]
    }
   ],
   "source": [
    "# 8) Write a code to remove the number 3 from the list [1, 2, 3, 4, 5]?\n",
    "lis=[1,2,3,4,5]\n",
    "lis.remove(3)\n",
    "print(lis)"
   ]
  },
  {
   "cell_type": "code",
   "execution_count": 28,
   "metadata": {},
   "outputs": [
    {
     "name": "stdout",
     "output_type": "stream",
     "text": [
      "b\n"
     ]
    }
   ],
   "source": [
    "# 9) Write a code to access the second element in the list ['a', 'b', 'c', 'd']?\n",
    "lis=[\"a\",\"b\",\"c\",\"d\"]\n",
    "print(lis[1])"
   ]
  },
  {
   "cell_type": "code",
   "execution_count": 30,
   "metadata": {},
   "outputs": [
    {
     "name": "stdout",
     "output_type": "stream",
     "text": [
      "[50, 40, 30, 20, 10]\n"
     ]
    }
   ],
   "source": [
    "# 10)  Write a code to reverse the list [10, 20, 30, 40, 50]?\n",
    "lis=[10,20,30,40,50]\n",
    "lis.reverse()\n",
    "print(lis)"
   ]
  },
  {
   "cell_type": "code",
   "execution_count": 31,
   "metadata": {},
   "outputs": [
    {
     "name": "stdout",
     "output_type": "stream",
     "text": [
      "(100, 200, 300)\n"
     ]
    }
   ],
   "source": [
    "# 11)  Write a code to create a tuple with the elements 100, 200, 300 and print it.\n",
    "tup=(100,200,300)\n",
    "print(tup)"
   ]
  },
  {
   "cell_type": "code",
   "execution_count": 32,
   "metadata": {},
   "outputs": [
    {
     "name": "stdout",
     "output_type": "stream",
     "text": [
      "blue\n"
     ]
    }
   ],
   "source": [
    "# 12)  Write a code to access the second-to-last element of the tuple ('red', 'green', 'blue', 'yellow').\n",
    "tup=(\"red\",\"green\",\"blue\",\"yellow\")\n",
    "print(tup[-2])"
   ]
  },
  {
   "cell_type": "code",
   "execution_count": 33,
   "metadata": {},
   "outputs": [
    {
     "name": "stdout",
     "output_type": "stream",
     "text": [
      "5\n"
     ]
    }
   ],
   "source": [
    "# 13) 13. Write a code to find the minimum number in the tuple (10, 20, 5, 15).\n",
    "tup=(10,20,5,15)\n",
    "print(min(tup))"
   ]
  },
  {
   "cell_type": "code",
   "execution_count": 34,
   "metadata": {},
   "outputs": [
    {
     "name": "stdout",
     "output_type": "stream",
     "text": [
      "1\n"
     ]
    }
   ],
   "source": [
    "#14. Write a code to find the index of the element \"cat\" in the tuple ('dog', 'cat', 'rabbit').\n",
    "tup=(\"dog\",\"cat\",\"rabbit\")\n",
    "print(tup.index(\"cat\"))"
   ]
  },
  {
   "cell_type": "code",
   "execution_count": 35,
   "metadata": {},
   "outputs": [
    {
     "name": "stdout",
     "output_type": "stream",
     "text": [
      "True\n"
     ]
    }
   ],
   "source": [
    "#15. Write a code to create a tuple containing three different fruits and check if \"kiwi\" is in it.\n",
    "tup=(\"mango\",\"apple\",\"kiwi\")\n",
    "print('kiwi' in tup)"
   ]
  },
  {
   "cell_type": "code",
   "execution_count": 36,
   "metadata": {},
   "outputs": [
    {
     "name": "stdout",
     "output_type": "stream",
     "text": [
      "{'b', 'c', 'a'}\n"
     ]
    }
   ],
   "source": [
    "#16. Write a code to create a set with the elements 'a', 'b', 'c' and print it.\n",
    "st={'a','b','c'}\n",
    "print(st)"
   ]
  },
  {
   "cell_type": "code",
   "execution_count": 37,
   "metadata": {},
   "outputs": [
    {
     "name": "stdout",
     "output_type": "stream",
     "text": [
      "set()\n"
     ]
    }
   ],
   "source": [
    "#17. Write a code to clear all elements from the set {1, 2, 3, 4, 5}.\n",
    "st={1,2,3,4,5}\n",
    "st.clear()\n",
    "print(st)"
   ]
  },
  {
   "cell_type": "code",
   "execution_count": 38,
   "metadata": {},
   "outputs": [
    {
     "name": "stdout",
     "output_type": "stream",
     "text": [
      "{1, 2, 3}\n"
     ]
    }
   ],
   "source": [
    "#18. Write a code to remove the element 4 from the set {1, 2, 3, 4}.\n",
    "\n",
    "st={1,2,3,4}\n",
    "st.remove(4)\n",
    "print(st)"
   ]
  },
  {
   "cell_type": "code",
   "execution_count": 39,
   "metadata": {},
   "outputs": [
    {
     "name": "stdout",
     "output_type": "stream",
     "text": [
      "{1, 2, 3, 4, 5}\n"
     ]
    }
   ],
   "source": [
    "#19. Write a code to find the union of two sets {1, 2, 3} and {3, 4, 5}\n",
    "st1={1,2,3}\n",
    "st2={3,4,5}\n",
    "print(st1|st2)"
   ]
  },
  {
   "cell_type": "code",
   "execution_count": 40,
   "metadata": {},
   "outputs": [
    {
     "name": "stdout",
     "output_type": "stream",
     "text": [
      "{2, 3}\n"
     ]
    }
   ],
   "source": [
    "#20. Write a code to find the intersection of two sets {1, 2, 3} and {2, 3, 4}.\n",
    "st1={1,2,3}\n",
    "st2={2,3,4}\n",
    "print(st1&st2)"
   ]
  },
  {
   "cell_type": "code",
   "execution_count": 41,
   "metadata": {},
   "outputs": [
    {
     "name": "stdout",
     "output_type": "stream",
     "text": [
      "{'name': 'ankit', 'age': 20, 'city': 'Muzaffarpur'}\n"
     ]
    }
   ],
   "source": [
    "#21. Write a code to create a dictionary with the keys \"name\", \"age\", and \"city\", and print it.\n",
    "dic={\"name\":\"ankit\",\"age\":20,\"city\":\"Muzaffarpur\"}\n",
    "print(dic)"
   ]
  },
  {
   "cell_type": "code",
   "execution_count": 42,
   "metadata": {},
   "outputs": [
    {
     "name": "stdout",
     "output_type": "stream",
     "text": [
      "{'name': 'john', 'age': 25, 'country': 'USA'}\n"
     ]
    }
   ],
   "source": [
    "#22. Write a code to add a new key-value pair \"country\": \"USA\" to the dictionary {'name': 'John', 'age': 25}.\n",
    "dic={\"name\":\"john\",\"age\":25}\n",
    "dic[\"country\"]=\"USA\"\n",
    "print(dic)"
   ]
  },
  {
   "cell_type": "code",
   "execution_count": 43,
   "metadata": {},
   "outputs": [
    {
     "name": "stdout",
     "output_type": "stream",
     "text": [
      "ALice\n"
     ]
    }
   ],
   "source": [
    "#23. Write a code to access the value associated with the key \"name\" in the dictionary {'name': 'Alice', 'age': 30}.\n",
    "dic={\"name\":\"ALice\",\"age\":30}\n",
    "print(dic['name'])"
   ]
  },
  {
   "cell_type": "code",
   "execution_count": 48,
   "metadata": {},
   "outputs": [
    {
     "name": "stdout",
     "output_type": "stream",
     "text": [
      "{'name': 'Bob', 'city': 'New York'}\n"
     ]
    }
   ],
   "source": [
    "#24. Write a code to remove the key \"age\" from the dictionary {'name': 'Bob', 'age': 22, 'city': 'New York'}.\n",
    "dic= {'name': 'Bob', 'age': 22, 'city': 'New York'}\n",
    "del dic['age']\n",
    "print(dic)"
   ]
  },
  {
   "cell_type": "code",
   "execution_count": 49,
   "metadata": {},
   "outputs": [
    {
     "name": "stdout",
     "output_type": "stream",
     "text": [
      "True\n"
     ]
    }
   ],
   "source": [
    "#25. Write a code to check if the key \"city\" exists in the dictionary {'name': 'Alice', 'city': 'Paris'}.\n",
    "dic={'name': 'Alice', 'city': 'Paris'}\n",
    "print('city' in dic)"
   ]
  },
  {
   "cell_type": "code",
   "execution_count": 50,
   "metadata": {},
   "outputs": [
    {
     "name": "stdout",
     "output_type": "stream",
     "text": [
      "[1, 2, 3, 4]\n",
      "(1, 2, 3, 4, 5)\n",
      "{'ankit': 12, 'varun': 15}\n"
     ]
    }
   ],
   "source": [
    "#26. Write a code to create a list, a tuple, and a dictionary, and print them all.\n",
    "\n",
    "l=[1,2,3,4]\n",
    "t=(1,2,3,4,5)\n",
    "dic={\"ankit\":12,\"varun\":15}\n",
    "print(l)\n",
    "print(t)\n",
    "print(dic)\n"
   ]
  },
  {
   "cell_type": "code",
   "execution_count": 56,
   "metadata": {},
   "outputs": [
    {
     "name": "stdout",
     "output_type": "stream",
     "text": [
      "[16, 32, 80, 81, 89]\n"
     ]
    }
   ],
   "source": [
    "#27. Write a code to create a list of 5 random numbers between 1 and 100, sort it in ascending order, and print the\n",
    "#result.(replaced)\n",
    "import random\n",
    "li=random.sample(range(1,101),5)\n",
    "li.sort()\n",
    "print(li)"
   ]
  },
  {
   "cell_type": "code",
   "execution_count": 57,
   "metadata": {},
   "outputs": [
    {
     "name": "stdout",
     "output_type": "stream",
     "text": [
      "ashish\n"
     ]
    }
   ],
   "source": [
    "#28. Write a code to create a list with strings and print the element at the third index.\n",
    "lis=[\"ankit\",\"varun\",\"ashish\",\"karna\"]\n",
    "print(lis[2])"
   ]
  },
  {
   "cell_type": "code",
   "execution_count": 62,
   "metadata": {},
   "outputs": [
    {
     "name": "stdout",
     "output_type": "stream",
     "text": [
      "{1: 3, 2: 3, 3: 2, 4: 1, 5: 1}\n"
     ]
    }
   ],
   "source": [
    "# 29. Write a code to combine two dictionaries into one and print the result.\n",
    "dic1={1:3,2:6,3:7,4:9}\n",
    "dic2={2:3,3:2,4:1,5:1}\n",
    "dic1.update(dic2)\n",
    "print(dic1)"
   ]
  },
  {
   "cell_type": "code",
   "execution_count": 63,
   "metadata": {},
   "outputs": [
    {
     "name": "stdout",
     "output_type": "stream",
     "text": [
      "{'karan', 'ankit', 'varun'}\n"
     ]
    }
   ],
   "source": [
    "#30. Write a code to convert a list of strings into a set.\n",
    "\n",
    "lis={\"ankit\",\"varun\",\"karan\"}\n",
    "st=set(lis)\n",
    "print(st)"
   ]
  }
 ],
 "metadata": {
  "kernelspec": {
   "display_name": "Python 3",
   "language": "python",
   "name": "python3"
  },
  "language_info": {
   "codemirror_mode": {
    "name": "ipython",
    "version": 3
   },
   "file_extension": ".py",
   "mimetype": "text/x-python",
   "name": "python",
   "nbconvert_exporter": "python",
   "pygments_lexer": "ipython3",
   "version": "3.13.1"
  }
 },
 "nbformat": 4,
 "nbformat_minor": 2
}
